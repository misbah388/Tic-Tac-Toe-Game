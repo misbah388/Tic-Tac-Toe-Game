{
 "cells": [
  {
   "cell_type": "code",
   "execution_count": 1,
   "id": "37e120c0",
   "metadata": {},
   "outputs": [
    {
     "name": "stdout",
     "output_type": "stream",
     "text": [
      "pygame 2.1.3 (SDL 2.0.22, Python 3.9.7)\n",
      "Hello from the pygame community. https://www.pygame.org/contribute.html\n"
     ]
    }
   ],
   "source": [
    "\n",
    "\n",
    "import pygame\n",
    "x = pygame.init()\n",
    "gameWindow = pygame.display.set_mode((1200, 500))\n",
    "\n"
   ]
  },
  {
   "cell_type": "code",
   "execution_count": null,
   "id": "5a42fc6e",
   "metadata": {},
   "outputs": [
    {
     "name": "stdout",
     "output_type": "stream",
     "text": [
      "Welcome to Tic Tac Toe\n",
      "0 | 1 | 2 \n",
      "--|---|---\n",
      "3 | 4 | 5 \n",
      "--|---|---\n",
      "6 | 7 | 8 \n",
      "x's Chance\n",
      "please enter a value4\n",
      "0 | 1 | 2 \n",
      "--|---|---\n",
      "3 | x | 5 \n",
      "--|---|---\n",
      "6 | 7 | 8 \n",
      "o's Chance\n",
      "please enter a value8\n",
      "0 | 1 | 2 \n",
      "--|---|---\n",
      "3 | x | 5 \n",
      "--|---|---\n",
      "6 | 7 | o \n",
      "x's Chance\n"
     ]
    }
   ],
   "source": [
    "def sum(a, b, c):\n",
    "    return a+b+c\n",
    "\n",
    "\n",
    "def printBoard(xState, zState):\n",
    "    zero = 'x' if xState[0] else ('o' if zState[0] else 0)\n",
    "    one = 'x' if xState[1] else ('o' if zState[1] else 1)\n",
    "    two = 'x' if xState[2] else ('o' if zState[2] else 2)\n",
    "    three = 'x' if xState[3] else ('o' if zState[3] else 3)\n",
    "    four = 'x' if xState[4] else ('o' if zState[4] else 4)\n",
    "    five = 'x' if xState[5] else ('o' if zState[5] else 5)\n",
    "    six = 'x' if xState[6] else ('o' if zState[6] else 6)\n",
    "    seven = 'x' if xState[7] else ('o' if zState[7] else 7)\n",
    "    eight = 'x' if xState[8] else ('o' if zState[8] else 8)\n",
    "\n",
    "    print(f\"{zero} | {one} | {two} \")\n",
    "    print(f\"--|---|---\")\n",
    "    print(f\"{three} | {four} | {five} \")\n",
    "    print(f\"--|---|---\")\n",
    "    print(f\"{six} | {seven} | {eight} \")\n",
    "\n",
    "def checkwin(xState, zState):\n",
    "    wins = [[0, 1, 2], [3, 4, 5], [6, 7, 8], [0, 3, 6], [1, 4, 7], [2, 5, 8], [0, 4 , 8], [2, 4, 6]]\n",
    "    for win in wins:\n",
    "        if(sum(xState[win[0]], xState[win[1]], xState[win[2]])== 3):\n",
    "            print(\"x won the match\")\n",
    "            return 1\n",
    "        if(sum(xState[win[0]], xState[win[1]], xState[win[2]])== 3):\n",
    "            print(\"o won the match\")\n",
    "            return 0\n",
    "        \n",
    "    return -1\n",
    "\n",
    "\n",
    "if __name__ == \"__main__\":\n",
    "    \n",
    "    xState = [0,0,0,0,0,0,0,0,0]\n",
    "    zState = [0,0,0,0,0,0,0,0,0]\n",
    "    turn = 1 # 1 for x and 0 for o\n",
    "    print(\"Welcome to Tic Tac Toe\")\n",
    "    \n",
    "    while(True):\n",
    "        printBoard(xState, zState)\n",
    "        if(turn == 1):\n",
    "            print(\"x's Chance\")\n",
    "            value = int(input(\"please enter a value\"))\n",
    "            xState[value] = 1\n",
    "\n",
    "        else:\n",
    "            print(\"o's Chance\")\n",
    "            value = int(input(\"please enter a value\"))\n",
    "            zState[value] = 1\n",
    "        \n",
    "        cwin = checkwin(xState, zState)\n",
    "        if(cwin != -1):\n",
    "            print(\"Match Over\")\n",
    "            break\n",
    "            \n",
    "        turn = 1-turn\n",
    "    \n",
    "    \n",
    "    \n",
    "    "
   ]
  },
  {
   "cell_type": "code",
   "execution_count": null,
   "id": "4c853729",
   "metadata": {},
   "outputs": [],
   "source": []
  },
  {
   "cell_type": "code",
   "execution_count": null,
   "id": "7e2d073b",
   "metadata": {},
   "outputs": [],
   "source": []
  },
  {
   "cell_type": "code",
   "execution_count": null,
   "id": "91459491",
   "metadata": {},
   "outputs": [],
   "source": []
  },
  {
   "cell_type": "code",
   "execution_count": null,
   "id": "10cd56c5",
   "metadata": {},
   "outputs": [],
   "source": []
  }
 ],
 "metadata": {
  "kernelspec": {
   "display_name": "Python 3 (ipykernel)",
   "language": "python",
   "name": "python3"
  },
  "language_info": {
   "codemirror_mode": {
    "name": "ipython",
    "version": 3
   },
   "file_extension": ".py",
   "mimetype": "text/x-python",
   "name": "python",
   "nbconvert_exporter": "python",
   "pygments_lexer": "ipython3",
   "version": "3.9.7"
  }
 },
 "nbformat": 4,
 "nbformat_minor": 5
}
